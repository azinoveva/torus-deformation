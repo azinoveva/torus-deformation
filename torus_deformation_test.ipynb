{
 "cells": [
  {
   "cell_type": "code",
   "execution_count": 1,
   "id": "1403ee90",
   "metadata": {},
   "outputs": [
    {
     "name": "stderr",
     "output_type": "stream",
     "text": [
      "/Users/aleksandrazinoveva/N3XTCODER/Civic Coding/07_Voice_to_Form/.venv/lib/python3.12/site-packages/pythonworley/__init__.py:4: UserWarning: pkg_resources is deprecated as an API. See https://setuptools.pypa.io/en/latest/pkg_resources.html. The pkg_resources package is slated for removal as early as 2025-11-30. Refrain from using this package or pin to Setuptools<81.\n",
      "  from pkg_resources import get_distribution\n"
     ]
    }
   ],
   "source": [
    "import numpy as np\n",
    "import matplotlib.pyplot as plt\n",
    "from matplotlib import cm\n",
    "from ipywidgets import interactive, FloatSlider, IntSlider\n",
    "from mpl_toolkits.mplot3d import Axes3D\n",
    "from perlin_noise import PerlinNoise\n",
    "import pylab as plt\n",
    "from pythonworley import worley"
   ]
  },
  {
   "cell_type": "code",
   "execution_count": 2,
   "id": "97ef81a9",
   "metadata": {},
   "outputs": [],
   "source": [
    "def generate_base_torus(R=3, r=1, n_major=100, n_minor=30):\n",
    "    \"\"\"\n",
    "    Generate points on a smooth torus surface.\n",
    "    R: major radius (from center of hole to center of tube)\n",
    "    r: minor radius (radius of tube)\n",
    "    n_major: number of divisions along major circumference\n",
    "    n_minor: number of divisions along minor circumference (cross section)\n",
    "    Returns (X, Y, Z, normals, u, v):\n",
    "      X, Y, Z: 3D coordinates of surface points (n_minor x n_major)\n",
    "      normals: surface normal vectors (n_minor x n_major x 3)\n",
    "      u: angles along major ring (0 to 2pi)\n",
    "      v: angles along minor ring (0 to 2pi)\n",
    "    \"\"\"\n",
    "    u = np.linspace(0, 2*np.pi, n_major, endpoint=True)\n",
    "    v = np.linspace(0, 2*np.pi, n_minor, endpoint=True)\n",
    "    U, V = np.meshgrid(u, v)\n",
    "\n",
    "    # Parametric equations of torus\n",
    "    X = (R + r * np.cos(V)) * np.cos(U)\n",
    "    Y = (R + r * np.cos(V)) * np.sin(U)\n",
    "    Z = r * np.sin(V)\n",
    "\n",
    "    # Calculate normals\n",
    "    # Normals for torus at (u,v) is vector from center of tube circle to point:\n",
    "    Nx = np.cos(V) * np.cos(U)\n",
    "    Ny = np.cos(V) * np.sin(U)\n",
    "    Nz = np.sin(V)\n",
    "    normals = np.stack((Nx, Ny, Nz), axis=2)\n",
    "\n",
    "    return X, Y, Z, normals"
   ]
  },
  {
   "cell_type": "code",
   "execution_count": 3,
   "id": "9b4966b5",
   "metadata": {},
   "outputs": [],
   "source": [
    "def plot_torus(X, Y, Z, title=None, noise=None):\n",
    "    if noise is not None:\n",
    "        # Create a figure with two subplots: 3D torus and 2D noise side by side\n",
    "        fig = plt.figure(figsize=(12, 6))\n",
    "        ax3d = fig.add_subplot(1, 2, 1, projection='3d')\n",
    "        surf = ax3d.plot_surface(\n",
    "            X, Y, Z,\n",
    "            rstride=1, cstride=1,\n",
    "            facecolors=cm.viridis((Z - Z.min()) / (Z.max() - Z.min())),\n",
    "            linewidth=0, antialiased=False\n",
    "        )\n",
    "        ax3d.set_box_aspect([1, 1, 1])\n",
    "        ax3d.set_xlim(-5, 5)\n",
    "        ax3d.set_ylim(-5, 5)\n",
    "        ax3d.set_zlim(-3, 3)\n",
    "        if title:\n",
    "            ax3d.set_title(title)\n",
    "\n",
    "        ax2d = fig.add_subplot(1, 2, 2)\n",
    "        im = ax2d.imshow(noise, cmap='gray', aspect='auto')\n",
    "        ax2d.set_title(\"Noise Pattern\")\n",
    "        ax2d.axis('off')\n",
    "\n",
    "        plt.tight_layout()\n",
    "        plt.show()\n",
    "    else:\n",
    "        fig = plt.figure(figsize=(8, 6))\n",
    "        ax = fig.add_subplot(111, projection='3d')\n",
    "        ax.plot_surface(\n",
    "            X, Y, Z,\n",
    "            rstride=1, cstride=1,\n",
    "            facecolors=cm.viridis((Z - Z.min()) / (Z.max() - Z.min())),\n",
    "            linewidth=0, antialiased=False\n",
    "        )\n",
    "        ax.set_box_aspect([1, 1, 1])\n",
    "        ax.set_xlim(-5, 5)\n",
    "        ax.set_ylim(-5, 5)\n",
    "        ax.set_zlim(-3, 3)\n",
    "        if title:\n",
    "            ax.set_title(title)\n",
    "        plt.tight_layout()\n",
    "        plt.show()"
   ]
  },
  {
   "cell_type": "code",
   "execution_count": 4,
   "id": "0b7b3f26",
   "metadata": {},
   "outputs": [
    {
     "data": {
      "application/vnd.jupyter.widget-view+json": {
       "model_id": "54588af4a15347f096827ae285dc520f",
       "version_major": 2,
       "version_minor": 0
      },
      "text/plain": [
       "interactive(children=(IntSlider(value=100, description='Major divisions', max=200, min=10, step=10), IntSlider…"
      ]
     },
     "execution_count": 4,
     "metadata": {},
     "output_type": "execute_result"
    }
   ],
   "source": [
    "def base_torus(n_major=100, n_minor=30):\n",
    "    X, Y, Z, _= generate_base_torus(n_major=n_major, n_minor=n_minor)\n",
    "    plot_torus(X, Y, Z, f\"Base Torus (n_major={n_major}, n_minor={n_minor})\")\n",
    "\n",
    "interactive(base_torus,\n",
    "            n_major=IntSlider(min=10, max=200, step=10, value=100, description=\"Major divisions\"),\n",
    "            n_minor=IntSlider(min=5, max=100, step=5, value=30, description=\"Minor divisions\")\n",
    "           )"
   ]
  },
  {
   "cell_type": "code",
   "execution_count": 5,
   "id": "1ee5294a",
   "metadata": {},
   "outputs": [],
   "source": [
    "def random_noise(shape, seed=None):\n",
    "    if not seed:\n",
    "        seed = np.random.randint(1, 1000000)\n",
    "    noise = np.random.rand(shape[0], shape[1])\n",
    "    return noise"
   ]
  },
  {
   "cell_type": "code",
   "execution_count": 6,
   "id": "b96f3abe",
   "metadata": {},
   "outputs": [],
   "source": [
    "def perlin_noise(shape, octaves=1, seed=None):\n",
    "    \"\"\"\n",
    "    Generates a smooth noise array of given shape using perlin_noise library    .\n",
    "    \"\"\"\n",
    "    if not seed:\n",
    "        seed = np.random.randint(1, 1000000)\n",
    "    noise_generator = PerlinNoise(octaves=octaves, seed=seed)\n",
    "    noise = np.array([[noise_generator([i / shape[0], j / shape[1]]) for j in range(shape[1])] for i in range(shape[0])])\n",
    "    return noise"
   ]
  },
  {
   "cell_type": "code",
   "execution_count": 7,
   "id": "eeca6999",
   "metadata": {},
   "outputs": [],
   "source": [
    "def worley_noise(shape, seed=None):\n",
    "    if not seed:\n",
    "        seed = np.random.randint(1, 1000000)\n",
    "    shape = (int(shape[0]/10), int(shape[1]/10))\n",
    "    w, c = worley(shape, dens=10, seed=seed)\n",
    "    w = w[0].T\n",
    "    return w"
   ]
  },
  {
   "cell_type": "code",
   "execution_count": 8,
   "id": "4c958646",
   "metadata": {},
   "outputs": [],
   "source": [
    "def star_noise(shape, seed=None):\n",
    "    # Make rectangular grid\n",
    "    x, y = np.arange(shape[0]), np.arange(shape[1])\n",
    "    x, y = np.meshgrid(x, y, indexing=\"ij\")\n",
    "\n",
    "    # Generate noise: random displacements r at random angles phi\n",
    "    np.random.seed(0)\n",
    "    phi = np.random.uniform(0, 2 * np.pi, x.shape)\n",
    "    r = np.random.uniform(0, 0.5, x.shape)\n",
    "\n",
    "    # Shrink star size to keep it inside its cell.\n",
    "    # Alse, we want more small stars - for the background effect.\n",
    "    # To do that we rescale displacements: r -> 1/2 - 0.001 / r.\n",
    "    r = np.clip(0.5 - 1e-3 / r, 0, None)\n",
    "    size = 200 * (0.5 - r) - 0.4\n",
    "\n",
    "    return size\n",
    "\n"
   ]
  },
  {
   "cell_type": "code",
   "execution_count": 9,
   "id": "08532b32",
   "metadata": {},
   "outputs": [
    {
     "data": {
      "application/vnd.jupyter.widget-view+json": {
       "model_id": "f3cd35f8fd824161af1b8fe8e15e64f7",
       "version_major": 2,
       "version_minor": 0
      },
      "text/plain": [
       "interactive(children=(IntSlider(value=100, description='Major divisions', max=150, min=50, step=10), IntSlider…"
      ]
     },
     "execution_count": 9,
     "metadata": {},
     "output_type": "execute_result"
    }
   ],
   "source": [
    "# ## Torus with Random Noise\n",
    "# Create a random noise pattern.\n",
    "\n",
    "def torus_random_noise(n_major=100, n_minor=30, noise_strength=0.3):\n",
    "    X, Y, Z, normals = generate_base_torus(n_major=n_major, n_minor=n_minor)\n",
    "\n",
    "    # Generate noise based on param coords (U,V)\n",
    "    noise = random_noise((n_minor, n_major))\n",
    "    #noise = (noise - 0.5) * 2  # center noise around 0\n",
    "\n",
    "    # Displace points along normals\n",
    "    Xd = X + normals[:,:,0] * noise_strength * noise\n",
    "    Yd = Y + normals[:,:,1] * noise_strength * noise\n",
    "    Zd = Z + normals[:,:,2] * noise_strength * noise\n",
    "\n",
    "    plot_torus(Xd, Yd, Zd,\n",
    "               f\"Torus with Random Noise\\n, strength={noise_strength}\", noise)\n",
    "    \n",
    "\n",
    "interactive(torus_random_noise,\n",
    "            n_major=IntSlider(min=50, max=150, step=10, value=100, description=\"Major divisions\"),\n",
    "            n_minor=IntSlider(min=10, max=50, step=5, value=30, description=\"Minor divisions\"),\n",
    "            noise_strength=FloatSlider(min=0, max=1, step=0.05, value=0.3, description=\"Noise strength\"),\n",
    "           )"
   ]
  },
  {
   "cell_type": "code",
   "execution_count": 10,
   "id": "72579522",
   "metadata": {},
   "outputs": [
    {
     "data": {
      "application/vnd.jupyter.widget-view+json": {
       "model_id": "1cc0c66848da48cf8a27fc2380165fd4",
       "version_major": 2,
       "version_minor": 0
      },
      "text/plain": [
       "interactive(children=(IntSlider(value=100, description='Major divisions', max=150, min=50, step=10), IntSlider…"
      ]
     },
     "execution_count": 10,
     "metadata": {},
     "output_type": "execute_result"
    }
   ],
   "source": [
    "# ## Torus with Perlin Noise\n",
    "# Create a smooth noise pattern.\n",
    "\n",
    "def torus_perlin_noise(n_major=100, n_minor=30, noise_strength=0.3, octaves=3):\n",
    "    X, Y, Z, normals = generate_base_torus(n_major=n_major, n_minor=n_minor)\n",
    "\n",
    "    # Generate noise based on param coords (U,V)\n",
    "    noise = perlin_noise((n_minor, n_major), octaves=octaves)\n",
    "    #noise = (noise - 0.5) * 2  # center noise around 0\n",
    "\n",
    "    # Displace points along normals\n",
    "    Xd = X + normals[:,:,0] * noise_strength * noise\n",
    "    Yd = Y + normals[:,:,1] * noise_strength * noise\n",
    "    Zd = Z + normals[:,:,2] * noise_strength * noise\n",
    "\n",
    "    plot_torus(Xd, Yd, Zd,\n",
    "               f\"Torus with Perlin Noise\\n, strength={noise_strength}, octaves={octaves}\", noise)\n",
    "    \n",
    "\n",
    "interactive(torus_perlin_noise,\n",
    "            n_major=IntSlider(min=50, max=150, step=10, value=100, description=\"Major divisions\"),\n",
    "            n_minor=IntSlider(min=10, max=50, step=5, value=30, description=\"Minor divisions\"),\n",
    "            noise_scale=FloatSlider(min=1, max=20, step=0.5, value=5, description=\"Noise scale\"),\n",
    "            noise_strength=FloatSlider(min=0, max=1, step=0.05, value=0.3, description=\"Noise strength\"),\n",
    "            octaves=IntSlider(min=1, max=20, step=1, value=10, description=\"Octaves\"),\n",
    "           )"
   ]
  },
  {
   "cell_type": "code",
   "execution_count": 11,
   "id": "846314b3",
   "metadata": {},
   "outputs": [
    {
     "data": {
      "application/vnd.jupyter.widget-view+json": {
       "model_id": "41810fb9fe684e47be701a0f8a0d8a5f",
       "version_major": 2,
       "version_minor": 0
      },
      "text/plain": [
       "interactive(children=(IntSlider(value=100, description='Major divisions', max=150, min=50, step=10), IntSlider…"
      ]
     },
     "execution_count": 11,
     "metadata": {},
     "output_type": "execute_result"
    }
   ],
   "source": [
    "# ## Torus with Worley Noise\n",
    "# Create a soft cellular propagation pattern.\n",
    "\n",
    "def torus_worley_noise(n_major=100, n_minor=30, noise_strength=0.3):\n",
    "    X, Y, Z, normals = generate_base_torus(n_major=n_major, n_minor=n_minor)\n",
    "\n",
    "    noise = worley_noise((n_major, n_minor))\n",
    "\n",
    "    # Displace points along normals\n",
    "    Xd = X + normals[:,:,0] * noise_strength * noise\n",
    "    Yd = Y + normals[:,:,1] * noise_strength * noise\n",
    "    Zd = Z + normals[:,:,2] * noise_strength * noise\n",
    "\n",
    "    plot_torus(Xd, Yd, Zd,\n",
    "               f\"Torus with Worley Noise\\n, strength={noise_strength}\", noise)\n",
    "    \n",
    "\n",
    "interactive(torus_worley_noise,\n",
    "            n_major=IntSlider(min=50, max=150, step=10, value=100, description=\"Major divisions\"),\n",
    "            n_minor=IntSlider(min=10, max=50, step=5, value=30, description=\"Minor divisions\"),\n",
    "            noise_strength=FloatSlider(min=0, max=1, step=0.05, value=0.3, description=\"Noise strength\"),\n",
    "            shape=IntSlider(min=2, max=20, step=1, value=4, description=\"Noise Shape\"),\n",
    "            density=IntSlider(min=1, max=20, step=1, value=25, description=\"NoiseDensity\"),\n",
    "           )"
   ]
  },
  {
   "cell_type": "code",
   "execution_count": 12,
   "id": "329a6cf2",
   "metadata": {},
   "outputs": [
    {
     "data": {
      "application/vnd.jupyter.widget-view+json": {
       "model_id": "08c4e808294e4ea186ce51f55e5a2029",
       "version_major": 2,
       "version_minor": 0
      },
      "text/plain": [
       "interactive(children=(IntSlider(value=100, description='Major divisions', max=150, min=50, step=10), IntSlider…"
      ]
     },
     "execution_count": 12,
     "metadata": {},
     "output_type": "execute_result"
    }
   ],
   "source": [
    "# ## Torus with Star-Like Noise\n",
    "# Create a star-like propagation pattern.\n",
    "\n",
    "def torus_star_noise(n_major=100, n_minor=30, noise_strength=0.3): \n",
    "    X, Y, Z, normals = generate_base_torus(n_major=n_major, n_minor=n_minor)\n",
    "    \n",
    "    noise = star_noise((n_minor, n_major))\n",
    "    noise = 0.1 * noise\n",
    "\n",
    "    # Displace points along normals\n",
    "    Xd = X + normals[:,:,0] * noise_strength * noise\n",
    "    Yd = Y + normals[:,:,1] * noise_strength * noise\n",
    "    Zd = Z + normals[:,:,2] * noise_strength * noise\n",
    "\n",
    "    plot_torus(Xd, Yd, Zd,\n",
    "               f\"Torus with Star-Like Noise,\\n strength={noise_strength}\", noise)\n",
    "    \n",
    "\n",
    "interactive(torus_star_noise,\n",
    "            n_major=IntSlider(min=50, max=150, step=10, value=100, description=\"Major divisions\"),\n",
    "            n_minor=IntSlider(min=10, max=50, step=5, value=30, description=\"Minor divisions\"),\n",
    "            noise_strength=FloatSlider(min=0, max=1, step=0.05, value=0.3, description=\"Noise strength\"),\n",
    "            shape=IntSlider(min=2, max=20, step=1, value=4, description=\"Noise Shape\"),\n",
    "            density=IntSlider(min=1, max=20, step=1, value=25, description=\"NoiseDensity\"),\n",
    "           )"
   ]
  },
  {
   "cell_type": "code",
   "execution_count": 13,
   "id": "2f5b2b5a",
   "metadata": {},
   "outputs": [
    {
     "data": {
      "application/vnd.jupyter.widget-view+json": {
       "model_id": "6fd93b4898894f39946c5ef784b6ccf2",
       "version_major": 2,
       "version_minor": 0
      },
      "text/plain": [
       "interactive(children=(IntSlider(value=100, description='Major divisions', max=150, min=50, step=10), IntSlider…"
      ]
     },
     "execution_count": 13,
     "metadata": {},
     "output_type": "execute_result"
    }
   ],
   "source": [
    "# Torus with Cross-section Polar Modulation\n",
    "# Modify the cross-section radius with a function in polar coordinates.\n",
    "\n",
    "def torus_cross_section_polar_mod(n_major=100, n_minor=30, modulation_amplitude=0.3, modulation_frequency=5):\n",
    "    R = 3\n",
    "    r = 1\n",
    "    u = np.linspace(0, 2*np.pi, n_major, endpoint=True)\n",
    "    v = np.linspace(0, 2*np.pi, n_minor, endpoint=True)\n",
    "    U, V = np.meshgrid(u, v)\n",
    "\n",
    "    # Modulate minor radius as function of angle along minor circle\n",
    "    mod = 1 + modulation_amplitude * np.sin(modulation_frequency * V)\n",
    "\n",
    "    X = (R + r * mod * np.cos(V)) * np.cos(U)\n",
    "    Y = (R + r * mod * np.cos(V)) * np.sin(U)\n",
    "    Z = r * mod * np.sin(V)\n",
    "\n",
    "    plot_torus(X, Y, Z,\n",
    "               f\"Torus with cross-section polar modulation\\nAmplitude={modulation_amplitude}, Frequency={modulation_frequency}\")\n",
    "\n",
    "interactive(torus_cross_section_polar_mod,\n",
    "            n_major=IntSlider(min=50, max=150, step=10, value=100, description=\"Major divisions\"),\n",
    "            n_minor=IntSlider(min=10, max=50, step=5, value=30, description=\"Minor divisions\"),\n",
    "            modulation_amplitude=FloatSlider(min=0, max=1, step=0.05, value=0.3, description=\"Amplitude\"),\n",
    "            modulation_frequency=IntSlider(min=1, max=20, step=1, value=5, description=\"Frequency\"),\n",
    "           )"
   ]
  },
  {
   "cell_type": "code",
   "execution_count": 14,
   "id": "9cf2a6d0",
   "metadata": {},
   "outputs": [
    {
     "data": {
      "application/vnd.jupyter.widget-view+json": {
       "model_id": "87cc456da80b46c8ba2357596bb0b66c",
       "version_major": 2,
       "version_minor": 0
      },
      "text/plain": [
       "interactive(children=(IntSlider(value=100, description='Major divisions', max=150, min=50, step=10), IntSlider…"
      ]
     },
     "execution_count": 14,
     "metadata": {},
     "output_type": "execute_result"
    }
   ],
   "source": [
    "# Torus with Möbius-like Twist\n",
    "# Introduce a twist that varies with position along the major ring, creating a Möbius-like effect.\n",
    "\n",
    "def torus_mobius_twist(n_major=100, n_minor=30, twist_strength=1.0):\n",
    "    R = 3\n",
    "    r = 1\n",
    "    u = np.linspace(0, 2*np.pi, n_major, endpoint=True)\n",
    "    v = np.linspace(0, 2*np.pi, n_minor, endpoint=True)\n",
    "    U, V = np.meshgrid(u, v)\n",
    "\n",
    "    # Start with base torus coordinates\n",
    "    X_base = (R + r * np.cos(V)) * np.cos(U)\n",
    "    Y_base = (R + r * np.cos(V)) * np.sin(U)\n",
    "    Z_base = r * np.sin(V)\n",
    "\n",
    "    # Create twist that varies with position along the major ring\n",
    "    # Points on opposite sides of the torus twist in opposite directions\n",
    "    twist_angle = twist_strength * np.sin(U)  # sin(U) changes sign halfway around\n",
    "    \n",
    "    # Apply the twist: rotate points around the local normal direction\n",
    "    # This creates the Möbius-like effect where one side twists one way, the other side twists the opposite way\n",
    "    cos_t = np.cos(twist_angle)\n",
    "    sin_t = np.sin(twist_angle)\n",
    "    \n",
    "    # Twist the cross-section at each point along the major ring\n",
    "    # This rotates the minor circle around the tangent direction\n",
    "    X_twisted = X_base\n",
    "    Y_twisted = Y_base * cos_t - Z_base * sin_t\n",
    "    Z_twisted = Y_base * sin_t + Z_base * cos_t\n",
    "\n",
    "    plot_torus(X_twisted, Y_twisted, Z_twisted,\n",
    "               f\"Torus with Möbius-like Twist\\nStrength={twist_strength}\")\n",
    "\n",
    "interactive(torus_mobius_twist,\n",
    "            n_major=IntSlider(min=50, max=150, step=10, value=100, description=\"Major divisions\"),\n",
    "            n_minor=IntSlider(min=10, max=50, step=5, value=30, description=\"Minor divisions\"),\n",
    "            twist_strength=FloatSlider(min=0, max=2, step=0.1, value=1.0, description=\"Twist Strength\"),\n",
    "           )"
   ]
  },
  {
   "cell_type": "code",
   "execution_count": 15,
   "id": "1f1b692a",
   "metadata": {},
   "outputs": [
    {
     "data": {
      "application/vnd.jupyter.widget-view+json": {
       "model_id": "d237f204fc634764a002a24ebc49e454",
       "version_major": 2,
       "version_minor": 0
      },
      "text/plain": [
       "interactive(children=(IntSlider(value=100, description='Major divisions', max=150, min=50, step=10), IntSlider…"
      ]
     },
     "execution_count": 15,
     "metadata": {},
     "output_type": "execute_result"
    }
   ],
   "source": [
    "# Torus with Helical Warp\n",
    "# Introduce a progressive rotation of the cross-section along the major ring, creating a spiral appearance.\n",
    "\n",
    "def torus_helical_warp(n_major=100, n_minor=30, warp_strength=1.0):\n",
    "    R = 3\n",
    "    r = 1\n",
    "    u = np.linspace(0, 2*np.pi, n_major, endpoint=True)\n",
    "    v = np.linspace(0, 2*np.pi, n_minor, endpoint=True)\n",
    "    U, V = np.meshgrid(u, v)\n",
    "\n",
    "    # Start with base torus coordinates\n",
    "    X_base = (R + r * np.cos(V)) * np.cos(U)\n",
    "    Y_base = (R + r * np.cos(V)) * np.sin(U)\n",
    "    Z_base = r * np.sin(V)\n",
    "\n",
    "    # Create progressive helical warp that varies with position along the major ring\n",
    "    # This creates a spiral effect where the twist increases as you go around the torus\n",
    "    warp_angle = warp_strength * U  # Progressive twist from 0 to warp_strength * 2π\n",
    "    \n",
    "    # Apply the helical warp: rotate points around the local tangent direction\n",
    "    # This creates a progressive spiral deformation\n",
    "    cos_t = np.cos(warp_angle)\n",
    "    sin_t = np.sin(warp_angle)\n",
    "    \n",
    "    # Helical warp: progressively twist the cross-section as you go around the major ring\n",
    "    X_warped = X_base\n",
    "    Y_warped = Y_base * cos_t - Z_base * sin_t\n",
    "    Z_warped = Y_base * sin_t + Z_base * cos_t\n",
    "\n",
    "    plot_torus(X_warped, Y_warped, Z_warped,\n",
    "               f\"Torus with Helical-Like Warp\\nStrength={warp_strength}\")\n",
    "\n",
    "interactive(torus_helical_warp,\n",
    "            n_major=IntSlider(min=50, max=150, step=10, value=100, description=\"Major divisions\"),\n",
    "            n_minor=IntSlider(min=10, max=50, step=5, value=30, description=\"Minor divisions\"),\n",
    "            warp_strength=FloatSlider(min=0, max=3, step=0.1, value=1.0, description=\"Warp Strength\"),\n",
    "           )"
   ]
  },
  {
   "cell_type": "code",
   "execution_count": 16,
   "id": "c9aa9a77",
   "metadata": {},
   "outputs": [
    {
     "data": {
      "application/vnd.jupyter.widget-view+json": {
       "model_id": "d179c18d578f4eaf926bdb3dce92d0ad",
       "version_major": 2,
       "version_minor": 0
      },
      "text/plain": [
       "interactive(children=(IntSlider(value=100, description='Major divisions', max=150, min=50, step=10), IntSlider…"
      ]
     },
     "execution_count": 16,
     "metadata": {},
     "output_type": "execute_result"
    }
   ],
   "source": [
    "# Torus with Bend Deformation\n",
    "# Curve the whole torus into an arc or S-shape.\n",
    "\n",
    "# Alternative: More complex S-deformation with multiple curves\n",
    "def torus_saddle_deformation(n_major=100, n_minor=30, s_strength=1.0):\n",
    "    R = 3\n",
    "    r = 1\n",
    "    u = np.linspace(0, 2*np.pi, n_major, endpoint=True)\n",
    "    v = np.linspace(0, 2*np.pi, n_minor, endpoint=True)\n",
    "    U, V = np.meshgrid(u, v)\n",
    "\n",
    "    # Start with base torus coordinates\n",
    "    X_base = (R + r * np.cos(V)) * np.cos(U)\n",
    "    Y_base = (R + r * np.cos(V)) * np.sin(U)\n",
    "    Z_base = r * np.sin(V)\n",
    "\n",
    "    # Create more complex S-curve with multiple inflection points\n",
    "    s_bend_y = s_strength * (np.sin(2 * U) + 0.3 * np.sin(4 * U))\n",
    "    s_bend_z = s_strength * (np.cos(2 * U) + 0.3 * np.cos(4 * U))\n",
    "    \n",
    "    X_s = X_base\n",
    "    Y_s = Y_base + s_bend_y\n",
    "    Z_s = Z_base + s_bend_z\n",
    "\n",
    "    plot_torus(X_s, Y_s, Z_s,\n",
    "               f\"Torus with Saddle-Like Deformation\\nStrength={s_strength}\")\n",
    "\n",
    "interactive(torus_saddle_deformation,\n",
    "            n_major=IntSlider(min=50, max=150, step=10, value=100, description=\"Major divisions\"),\n",
    "            n_minor=IntSlider(min=10, max=50, step=5, value=30, description=\"Minor divisions\"),\n",
    "            bend_strength=FloatSlider(min=0, max=2, step=0.05, value=0.5, description=\"Bend Strength\"),\n",
    "           )"
   ]
  },
  {
   "cell_type": "code",
   "execution_count": 17,
   "id": "9e6e3043",
   "metadata": {},
   "outputs": [
    {
     "data": {
      "application/vnd.jupyter.widget-view+json": {
       "model_id": "5405d5cd97914ce09c7e1cde309651aa",
       "version_major": 2,
       "version_minor": 0
      },
      "text/plain": [
       "interactive(children=(IntSlider(value=100, description='Major divisions', max=150, min=50, step=10), IntSlider…"
      ]
     },
     "execution_count": 17,
     "metadata": {},
     "output_type": "execute_result"
    }
   ],
   "source": [
    "# Torus with Smooth Gradient Scaling Along Major Radius (Bulging)\n",
    "# Scale the minor radius smoothly along the major ring for bulging/asymmetry without abrupt cutoffs.\n",
    "\n",
    "def torus_gradient_scaling(n_major=100, n_minor=30, scale_min=0.5, scale_max=1.5):\n",
    "    R = 3\n",
    "    r = 1\n",
    "    u = np.linspace(0, 2*np.pi, n_major, endpoint=True)  # endpoint=False to avoid seam\n",
    "    v = np.linspace(0, 2*np.pi, n_minor, endpoint=True)\n",
    "    U, V = np.meshgrid(u, v)\n",
    "\n",
    "    # Create smooth gradient that flows from both sides\n",
    "    # Use cosine function to create smooth transition that wraps around\n",
    "    # This creates a bulge that flows smoothly from both sides toward the center\n",
    "    gradient_factor = (scale_max - scale_min) / 2\n",
    "    center_scale = (scale_max + scale_min) / 2\n",
    "    \n",
    "    # Create scales array directly with correct shape (1, n_major)\n",
    "    # This will broadcast correctly with (n_minor, n_major) arrays\n",
    "    scales = center_scale + gradient_factor * np.cos(u).reshape(1, -1)\n",
    "\n",
    "    X = (R + r * scales * np.cos(V)) * np.cos(U)\n",
    "    Y = (R + r * scales * np.cos(V)) * np.sin(U)\n",
    "    Z = r * scales * np.sin(V)\n",
    "\n",
    "    plot_torus(X, Y, Z,\n",
    "               f\"Torus with Gradient Scaling\\nScale min={scale_min}, max={scale_max}\")\n",
    "\n",
    "interactive(torus_gradient_scaling,\n",
    "            n_major=IntSlider(min=50, max=150, step=10, value=100, description=\"Major divisions\"),\n",
    "            n_minor=IntSlider(min=10, max=50, step=5, value=30, description=\"Minor divisions\"),\n",
    "            scale_min=FloatSlider(min=0.1, max=1, step=0.05, value=0.5, description=\"Scale Min\"),\n",
    "            scale_max=FloatSlider(min=1, max=3, step=0.05, value=1.5, description=\"Scale Max\"),\n",
    "           )"
   ]
  },
  {
   "cell_type": "code",
   "execution_count": 18,
   "id": "369b74ba",
   "metadata": {},
   "outputs": [
    {
     "data": {
      "application/vnd.jupyter.widget-view+json": {
       "model_id": "d11c2bce17944b66a0123ad2f16149c2",
       "version_major": 2,
       "version_minor": 0
      },
      "text/plain": [
       "interactive(children=(IntSlider(value=100, description='Major divisions', max=150, min=50, step=10), IntSlider…"
      ]
     },
     "execution_count": 18,
     "metadata": {},
     "output_type": "execute_result"
    }
   ],
   "source": [
    "# ## 8. Torus with Sine Wave Deformation Along Major Ring\n",
    "# Create undulating thickness variations along the torus main ring using sine waves\n",
    "\n",
    "# %%\n",
    "def torus_sine_wave_deformation(n_major=100, n_minor=30, amplitude=0.5, frequency=3, phase=0):\n",
    "    R = 3\n",
    "    r = 1\n",
    "    u = np.linspace(0, 2*np.pi, n_major, endpoint=True)\n",
    "    v = np.linspace(0, 2*np.pi, n_minor, endpoint=True)\n",
    "    U, V = np.meshgrid(u, v)\n",
    "\n",
    "    # Create sine wave modulation of the minor radius\n",
    "    # This makes the torus thicker/thinner along the major ring\n",
    "    radius_modulation = 1 + amplitude * np.sin(frequency * U + phase)\n",
    "    \n",
    "    # Apply the modulation to create undulating thickness\n",
    "    X = (R + r * radius_modulation * np.cos(V)) * np.cos(U)\n",
    "    Y = (R + r * radius_modulation * np.sin(V)) * np.sin(U)\n",
    "    Z = r * radius_modulation * np.sin(V)\n",
    "\n",
    "    plot_torus(X, Y, Z,\n",
    "               f\"Torus with Sine Wave Deformation\\nAmplitude={amplitude}, Frequency={frequency}, Phase={phase}\")\n",
    "\n",
    "interactive(torus_sine_wave_deformation,\n",
    "            n_major=IntSlider(min=50, max=150, step=10, value=100, description=\"Major divisions\"),\n",
    "            n_minor=IntSlider(min=10, max=50, step=5, value=30, description=\"Minor divisions\"),\n",
    "            amplitude=FloatSlider(min=0, max=1, step=0.05, value=0.5, description=\"Amplitude\"),\n",
    "            frequency=IntSlider(min=1, max=8, step=1, value=3, description=\"Frequency\"),\n",
    "            phase=FloatSlider(min=0, max=2*np.pi, step=0.1, value=0, description=\"Phase\"),\n",
    "           )"
   ]
  }
 ],
 "metadata": {
  "kernelspec": {
   "display_name": ".venv",
   "language": "python",
   "name": "python3"
  },
  "language_info": {
   "codemirror_mode": {
    "name": "ipython",
    "version": 3
   },
   "file_extension": ".py",
   "mimetype": "text/x-python",
   "name": "python",
   "nbconvert_exporter": "python",
   "pygments_lexer": "ipython3",
   "version": "3.12.8"
  }
 },
 "nbformat": 4,
 "nbformat_minor": 5
}
